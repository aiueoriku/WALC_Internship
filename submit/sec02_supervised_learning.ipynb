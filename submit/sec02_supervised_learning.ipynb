{
 "cells": [
  {
   "cell_type": "code",
   "execution_count": 1,
   "metadata": {},
   "outputs": [],
   "source": [
    "# auto reload\n",
    "%load_ext autoreload\n",
    "%autoreload 2"
   ]
  },
  {
   "cell_type": "code",
   "execution_count": 2,
   "metadata": {},
   "outputs": [],
   "source": [
    "# pnadas display settings\n",
    "import pandas as pd\n",
    "pd.set_option('display.max_rows', None) # show all rows\n",
    "import warnings\n",
    "warnings.filterwarnings('ignore') # 全ての警告を非表示"
   ]
  },
  {
   "cell_type": "markdown",
   "metadata": {},
   "source": [
    "# Classifiers Used\n",
    "一気に全部は気持ちがしんどいので1日2つくらいで読み進める\n",
    "- LogisticRegression\n",
    "- LinearSVC\n",
    "- SVC\n",
    "- DecisionTreeClassifier\n",
    "- KNeighborsClassifier\n",
    "- LinearRegressioin\n",
    "- RandomForestClassifier\n",
    "- GradientBoostingClassifier\n",
    "- MLPClassifier"
   ]
  },
  {
   "cell_type": "code",
   "execution_count": null,
   "metadata": {},
   "outputs": [],
   "source": []
  }
 ],
 "metadata": {
  "kernelspec": {
   "display_name": "kadai",
   "language": "python",
   "name": "python3"
  },
  "language_info": {
   "codemirror_mode": {
    "name": "ipython",
    "version": 3
   },
   "file_extension": ".py",
   "mimetype": "text/x-python",
   "name": "python",
   "nbconvert_exporter": "python",
   "pygments_lexer": "ipython3",
   "version": "3.11.11"
  }
 },
 "nbformat": 4,
 "nbformat_minor": 2
}
